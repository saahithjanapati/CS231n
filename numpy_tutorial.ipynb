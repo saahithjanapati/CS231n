{
  "nbformat": 4,
  "nbformat_minor": 0,
  "metadata": {
    "colab": {
      "name": "numpy_tutorial.ipynb",
      "provenance": [],
      "collapsed_sections": []
    },
    "kernelspec": {
      "name": "python3",
      "display_name": "Python 3"
    },
    "language_info": {
      "name": "python"
    }
  },
  "cells": [
    {
      "cell_type": "code",
      "execution_count": null,
      "metadata": {
        "colab": {
          "base_uri": "https://localhost:8080/"
        },
        "id": "SW4BIc-C_j_u",
        "outputId": "75208061-8f4f-48f4-dbe1-94f5f1727804"
      },
      "outputs": [
        {
          "output_type": "stream",
          "name": "stdout",
          "text": [
            "<class 'numpy.ndarray'>\n",
            "(3,)\n",
            "1 2 3\n",
            "[5 2 3]\n",
            "(2, 3)\n",
            "1 2 4\n"
          ]
        }
      ],
      "source": [
        "import numpy as np\n",
        "\n",
        "\n",
        "a = np.array([1,2,3])\n",
        "print(type(a))\n",
        "print(a.shape)\n",
        "print(a[0], a[1], a[2])\n",
        "a[0] = 5\n",
        "print(a)\n",
        "\n",
        "b = np.array([[1,2,3], [4,5,6]])\n",
        "print(b.shape)\n",
        "print(b[0,0], b[0,1], b[1,0])"
      ]
    },
    {
      "cell_type": "code",
      "source": [
        "# functions to create arrays\n",
        "a = np.zeros((2,2)) # np.array with zeros in shape (2,2)\n",
        "print(a)\n",
        "\n",
        "b = np.ones((1,2)) # np.array with all ones\n",
        "print(b)\n",
        "\n",
        "c = np.full ((2,2), 7)  # constant array with specified value (7)\n",
        "print(c)\n",
        "\n",
        "d = np.eye(2) # 2x2 identity matrix\n",
        "print(d)\n",
        "\n",
        "e = np.random.random((2,2)) # random matrix of specified shape\n",
        "print(e)"
      ],
      "metadata": {
        "colab": {
          "base_uri": "https://localhost:8080/"
        },
        "id": "7OIU42NnABRw",
        "outputId": "f4312c5e-1e7a-4f75-fb77-8ae97570b6f8"
      },
      "execution_count": null,
      "outputs": [
        {
          "output_type": "stream",
          "name": "stdout",
          "text": [
            "[[0. 0.]\n",
            " [0. 0.]]\n",
            "[[1. 1.]]\n",
            "[[7 7]\n",
            " [7 7]]\n",
            "[[1. 0.]\n",
            " [0. 1.]]\n",
            "[[0.91515944 0.85570948]\n",
            " [0.8624181  0.62456165]]\n"
          ]
        }
      ]
    },
    {
      "cell_type": "code",
      "source": [
        "a = np.array([[1,2,3,4], [5,6,7,8], [9,10,11,12]])\n",
        "# \"\"\"\n",
        "# 1  2  3  4\n",
        "# 5  6  7  8\n",
        "# 9  10 11 12\n",
        "# \"\"\"\n",
        "print(a)\n",
        "\n",
        "\n",
        "# get first two rows, and middle columns\n",
        "b = a[:2, 1:3] # pull out subarrays\n",
        "print(b)\n",
        "# \"\"\"\n",
        "# 2 3\n",
        "# 6 7\n",
        "# \"\"\"\n",
        "\n",
        "# slive of array is view into same data, so modifying it will modify the original data\n",
        "print(a[0, 1]) # 2\n",
        "b[0,0] = 77\n",
        "print(a[0, 1])\n",
        "# \"\"\"\n",
        "# 1 77 3 4\n",
        "# 5  6 7 8\n",
        "# 9 10 11 12\n",
        "# \"\"\"\n"
      ],
      "metadata": {
        "colab": {
          "base_uri": "https://localhost:8080/"
        },
        "id": "qdeaADDCAgS3",
        "outputId": "980c6276-5e7a-4b8b-cf78-817fcfc5b02b"
      },
      "execution_count": null,
      "outputs": [
        {
          "output_type": "stream",
          "name": "stdout",
          "text": [
            "[[ 1  2  3  4]\n",
            " [ 5  6  7  8]\n",
            " [ 9 10 11 12]]\n",
            "[[2 3]\n",
            " [6 7]]\n",
            "2\n",
            "77\n"
          ]
        }
      ]
    },
    {
      "cell_type": "code",
      "source": [
        "import numpy as np\n",
        "\n",
        "a = np.array([[1,2,3,4], [5,6,7,8], [9,10,11,12]])\n",
        "\n",
        "\n",
        "\n",
        "row_r1 = a[1, :]  # rank 1 view of second row of a\n",
        "row_r2 = a[1:2, :] # rank 2 view of second row of a\n",
        "print(row_r1, row_r1.shape)\n",
        "print(row_r2, row_r2.shape) \n",
        "\n",
        "col_r1 = a[:, 1]\n",
        "col_r2 = a[:, 1:2]\n",
        "print(col_r1, col_r1.shape)\n",
        "print(col_r2, col_r2.shape)\n"
      ],
      "metadata": {
        "colab": {
          "base_uri": "https://localhost:8080/"
        },
        "id": "9keWTM7rDE5b",
        "outputId": "eaabb7fa-a643-425d-949f-dadb902719d3"
      },
      "execution_count": null,
      "outputs": [
        {
          "output_type": "stream",
          "name": "stdout",
          "text": [
            "[5 6 7 8] (4,)\n",
            "[[5 6 7 8]] (1, 4)\n",
            "[ 2  6 10] (3,)\n",
            "[[ 2]\n",
            " [ 6]\n",
            " [10]] (3, 1)\n"
          ]
        }
      ]
    },
    {
      "cell_type": "code",
      "source": [
        "# integer array indexing\n",
        "# when using slicing to index into np arrays, resulting array is always a subarray/view of original array\n",
        "# integer array indexing allows you to construct arbitrary arrays using data from other arrays\n",
        "\n",
        "a = np.array([[1,2], [3,4], [5,6]])\n",
        "\"\"\"\n",
        "1 2\n",
        "3 4\n",
        "5 6\n",
        "\"\"\"\n",
        "\n",
        "print(a[[0,1,2], [0,1,0]]) \n",
        "# first elements (0,0) correspond to 1\n",
        "# second elements (1,1) correspond to 4\n",
        "# third elements (2,0) correspond to 5"
      ],
      "metadata": {
        "colab": {
          "base_uri": "https://localhost:8080/"
        },
        "id": "Qew3g3EdFE78",
        "outputId": "e8551a43-6738-4bc4-c53c-4bd2eb2d37c1"
      },
      "execution_count": null,
      "outputs": [
        {
          "output_type": "stream",
          "name": "stdout",
          "text": [
            "[1 4 5]\n"
          ]
        }
      ]
    },
    {
      "cell_type": "code",
      "source": [
        "# trick: select or mutate one element from each row (or column) of matrix\n",
        "a = np.array([[1,2,3], [4,5,6], [7,8,9], [10,11,12]])\n",
        "print(a)\n",
        "\n",
        "b = np.array([0,2,0,1])\n",
        "\n",
        "\n",
        "print(\"np.arange \", np.arange(4))\n",
        "print(a[np.arange(4), b])\n",
        "\n",
        "a[np.arange(4), b] += 10\n",
        "\n",
        "print(a)"
      ],
      "metadata": {
        "colab": {
          "base_uri": "https://localhost:8080/"
        },
        "id": "TzyvGzNYIM5M",
        "outputId": "118ffe52-297f-45ee-b5fc-a89e73c82734"
      },
      "execution_count": null,
      "outputs": [
        {
          "output_type": "stream",
          "name": "stdout",
          "text": [
            "[[ 1  2  3]\n",
            " [ 4  5  6]\n",
            " [ 7  8  9]\n",
            " [10 11 12]]\n",
            "np.arange  [0 1 2 3]\n",
            "[ 1  6  7 11]\n",
            "[[11  2  3]\n",
            " [ 4  5 16]\n",
            " [17  8  9]\n",
            " [10 21 12]]\n"
          ]
        }
      ]
    },
    {
      "cell_type": "code",
      "source": [
        "# boolean array indexing\n",
        "a = np.array([[1,2], [3,4], [5,6]])\n",
        "\n",
        "bool_idx = (a>2)  # find elements of a that are bigger than 2\n",
        "\n",
        "print(bool_idx)\n",
        "\n",
        "print(a[bool_idx])  # constructs rank 1 array corresponding to the true values\n",
        "\n",
        "print(a[a>2])"
      ],
      "metadata": {
        "colab": {
          "base_uri": "https://localhost:8080/"
        },
        "id": "1sWnOTk_IOSi",
        "outputId": "7774e5e8-c970-4631-efcd-b0ac92f0deb5"
      },
      "execution_count": null,
      "outputs": [
        {
          "output_type": "stream",
          "name": "stdout",
          "text": [
            "[[False False]\n",
            " [ True  True]\n",
            " [ True  True]]\n",
            "[3 4 5 6]\n",
            "[3 4 5 6]\n"
          ]
        }
      ]
    },
    {
      "cell_type": "code",
      "source": [
        "# Datatypes\n",
        "\n",
        "x = np.array([1,2])\n",
        "print(x.dtype)\n",
        "\n",
        "x = np.array([1.0, 2.0])\n",
        "print(x.dtype)\n",
        "\n",
        "x = np.array([1,2], dtype=np.int64)\n",
        "print(x.dtype)"
      ],
      "metadata": {
        "id": "13PqCJ2NIM_P",
        "colab": {
          "base_uri": "https://localhost:8080/"
        },
        "outputId": "a994e95d-12f9-4df7-de46-3fc8f5c9b10c"
      },
      "execution_count": 14,
      "outputs": [
        {
          "output_type": "stream",
          "name": "stdout",
          "text": [
            "int64\n",
            "float64\n",
            "int64\n"
          ]
        }
      ]
    },
    {
      "cell_type": "code",
      "source": [
        "# array math (all of these are element-wise)\n",
        "x = np.array([[1,2], [3,4]], dtype=np.float64)\n",
        "y = np.array([[5,6], [7,8]], dtype=np.float64)\n",
        "\n",
        "print(x+y)\n",
        "print(np.add(x,y))\n",
        "\n",
        "\n",
        "print(x-y)\n",
        "print(np.subtract(x,y))\n",
        "\n",
        "\n",
        "print(x*y)\n",
        "print(np.multiply(x,y))\n",
        "\n",
        "print(x/y)\n",
        "print(np.divide(x,y))\n",
        "\n",
        "\n",
        "print(np.sqrt(x))"
      ],
      "metadata": {
        "id": "rTZai8aWL_3A",
        "colab": {
          "base_uri": "https://localhost:8080/"
        },
        "outputId": "7fba577f-8468-4772-c178-fbc74ae1ad9f"
      },
      "execution_count": 15,
      "outputs": [
        {
          "output_type": "stream",
          "name": "stdout",
          "text": [
            "[[ 6.  8.]\n",
            " [10. 12.]]\n",
            "[[ 6.  8.]\n",
            " [10. 12.]]\n",
            "[[-4. -4.]\n",
            " [-4. -4.]]\n",
            "[[-4. -4.]\n",
            " [-4. -4.]]\n",
            "[[ 5. 12.]\n",
            " [21. 32.]]\n",
            "[[ 5. 12.]\n",
            " [21. 32.]]\n",
            "[[0.2        0.33333333]\n",
            " [0.42857143 0.5       ]]\n",
            "[[0.2        0.33333333]\n",
            " [0.42857143 0.5       ]]\n",
            "[[1.         1.41421356]\n",
            " [1.73205081 2.        ]]\n"
          ]
        }
      ]
    },
    {
      "cell_type": "code",
      "source": [
        "x = np.array([[1,2], [3,4]])\n",
        "y = np.array([[5,6], [7,8]])\n",
        "\n",
        "v = np.array([9,10])\n",
        "w = np.array([11,12])\n",
        "\n",
        "print(v.dot(w)) # inner product of vectors v and w\n",
        "print(np.dot(v,w))\n",
        "\n",
        "print(x.dot(v))\n",
        "print(np.dot(x,v))\n",
        "\n",
        "print(x.dot(y)) # matrix multiplication\n",
        "print(np.dot(x,y))"
      ],
      "metadata": {
        "colab": {
          "base_uri": "https://localhost:8080/"
        },
        "id": "O6zK_EIpNU3m",
        "outputId": "8b86614b-36d1-4117-ef76-b95d2a1cb1c2"
      },
      "execution_count": 16,
      "outputs": [
        {
          "output_type": "stream",
          "name": "stdout",
          "text": [
            "219\n",
            "219\n",
            "[29 67]\n",
            "[29 67]\n",
            "[[19 22]\n",
            " [43 50]]\n",
            "[[19 22]\n",
            " [43 50]]\n"
          ]
        }
      ]
    },
    {
      "cell_type": "code",
      "source": [
        "import numpy as np\n",
        "x = np.array([[1,2], [3,4]])\n",
        "print(np.sum(x))  # sum of all elements\n",
        "\n",
        "print(np.sum(x, axis=0))  # sum over columns\n",
        "print(np.sum(x, axis=1))  # sum over rows"
      ],
      "metadata": {
        "colab": {
          "base_uri": "https://localhost:8080/"
        },
        "id": "EexvBI2w9TEW",
        "outputId": "4ad87db3-d59f-418f-d6f5-96c18186d4ba"
      },
      "execution_count": 2,
      "outputs": [
        {
          "output_type": "stream",
          "name": "stdout",
          "text": [
            "10\n",
            "[4 6]\n",
            "[3 7]\n"
          ]
        }
      ]
    },
    {
      "cell_type": "code",
      "source": [
        "x = np.array([[1,2], [3,4]])\n",
        "print(x)\n",
        "print(x.T)\n",
        "\n",
        "v = np.array([1,2,3]) # taking transpose of rank 1 array does nothing\n",
        "print(v)\n",
        "print(v.T)"
      ],
      "metadata": {
        "colab": {
          "base_uri": "https://localhost:8080/"
        },
        "id": "vPiM_SFs9mw1",
        "outputId": "0cd030ef-0a3b-41d3-c47a-ccb46c355d35"
      },
      "execution_count": 3,
      "outputs": [
        {
          "output_type": "stream",
          "name": "stdout",
          "text": [
            "[[1 2]\n",
            " [3 4]]\n",
            "[[1 3]\n",
            " [2 4]]\n",
            "[1 2 3]\n",
            "[1 2 3]\n"
          ]
        }
      ]
    },
    {
      "cell_type": "code",
      "source": [
        "x = np.array([[1,2,3], [4,5,6], [7,8,9], [10, 11, 12]])\n",
        "v = np.array([1, 0, 1])\n",
        "y = np.empty_like(x) # empty matrix of shape x\n",
        "\n",
        "\n",
        "for i in range(4):\n",
        "  y[i,:] = x[i, :] + v\n",
        "\n",
        "print(y)"
      ],
      "metadata": {
        "colab": {
          "base_uri": "https://localhost:8080/"
        },
        "id": "M5PgtTyR9247",
        "outputId": "ad027940-1cb3-4790-c91d-c7f01aa25915"
      },
      "execution_count": 4,
      "outputs": [
        {
          "output_type": "stream",
          "name": "stdout",
          "text": [
            "[[ 2  2  4]\n",
            " [ 5  5  7]\n",
            " [ 8  8 10]\n",
            " [11 11 13]]\n"
          ]
        }
      ]
    },
    {
      "cell_type": "code",
      "source": [
        "# same functionality in block above --> like so:\n",
        "\n",
        "x = np.array([[1,2,3], [4,5,6], [7,8,9], [10,11,12]])\n",
        "v = np.array([1,0,1])\n",
        "vv = np.tile(v,(4,1))\n",
        "print(vv)\n",
        "\n",
        "\n",
        "y = x + vv\n",
        "print(y)"
      ],
      "metadata": {
        "colab": {
          "base_uri": "https://localhost:8080/"
        },
        "id": "RpTAC7w5-ars",
        "outputId": "4ad3ae50-a95d-4d93-f80a-5088f0346c38"
      },
      "execution_count": 5,
      "outputs": [
        {
          "output_type": "stream",
          "name": "stdout",
          "text": [
            "[[1 0 1]\n",
            " [1 0 1]\n",
            " [1 0 1]\n",
            " [1 0 1]]\n",
            "[[ 2  2  4]\n",
            " [ 5  5  7]\n",
            " [ 8  8 10]\n",
            " [11 11 13]]\n"
          ]
        }
      ]
    },
    {
      "cell_type": "code",
      "source": [
        "# numpy broadcasting lets us do this with even less work\n",
        "x = np.array([[1,2,3], [4,5,6], [7,8,9], [10, 11, 12]])\n",
        "v = np.array([1, 0, 1])\n",
        "y = x + v  # Add v to each row of x using broadcasting\n",
        "# line works even though both objects are of different shapes\n",
        "print(y)"
      ],
      "metadata": {
        "colab": {
          "base_uri": "https://localhost:8080/"
        },
        "id": "KUL8khL9-xtH",
        "outputId": "046b6a4d-e7ba-45e1-a323-44d889d3eb4d"
      },
      "execution_count": 6,
      "outputs": [
        {
          "output_type": "stream",
          "name": "stdout",
          "text": [
            "[[ 2  2  4]\n",
            " [ 5  5  7]\n",
            " [ 8  8 10]\n",
            " [11 11 13]]\n"
          ]
        }
      ]
    },
    {
      "cell_type": "code",
      "source": [
        "v = np.array([1,2,3]) # v has shape (3,)\n",
        "w = np.array([4,5]) # w has shape (2,)\n",
        "\n",
        "\n",
        "print(np.reshape(v, (3,1)) * w)\n",
        "\n",
        "x = np.array([[1,2,3], [4,5,6]])\n",
        "print(x+v)\n",
        "\n",
        "\n",
        "\n",
        "print((x.T+w).T)\n",
        "\n",
        "print(x+np.reshape(w, (2,1)))\n",
        "\n",
        "\n",
        "print(x*2)"
      ],
      "metadata": {
        "colab": {
          "base_uri": "https://localhost:8080/"
        },
        "id": "1enH9ePGAU-4",
        "outputId": "a0586bc0-bb93-4d7d-940c-26248ae31e9c"
      },
      "execution_count": 9,
      "outputs": [
        {
          "output_type": "stream",
          "name": "stdout",
          "text": [
            "[[ 4  5]\n",
            " [ 8 10]\n",
            " [12 15]]\n",
            "[[2 4 6]\n",
            " [5 7 9]]\n",
            "[[ 5  6  7]\n",
            " [ 9 10 11]]\n",
            "[[ 5  6  7]\n",
            " [ 9 10 11]]\n",
            "[[ 2  4  6]\n",
            " [ 8 10 12]]\n"
          ]
        }
      ]
    }
  ]
}